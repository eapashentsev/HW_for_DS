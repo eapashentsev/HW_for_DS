{
 "cells": [
  {
   "cell_type": "markdown",
   "metadata": {
    "pycharm": {
     "name": "#%% md\n"
    }
   },
   "source": [
    "[![Open In Colab](https://colab.research.google.com/assets/colab-badge.svg)](https://colab.research.google.com/github/ds-reboot/python-first-part/blob/main/notebooks/hometasks/Task3_dmrf_OOP.ipynb)"
   ]
  },
  {
   "cell_type": "markdown",
   "metadata": {
    "pycharm": {
     "name": "#%% md\n"
    }
   },
   "source": [
    "# Задание\n",
    "Реализовать с помощью объектно-ориентированного подхода предыдущие 2 задания. Создайте для каждой из задач отдельный класс, который позволяет ее решить.\n",
    "\n",
    "* Собрать информацию о всех строящихся объектах на сайте \"наш.дом.рф\"\n",
    "* Cохранить ее в pandas dataframe, а также в excel, pickle, БД\n",
    "\n",
    "* Проверить состояние датафрейма и привести его в формат, позволяющий дальнейшее исследование данных\n",
    "\n",
    "*  Сделать визуализацию для мини-исследования рынка строящейся недвижимости в одном или нескольких регионах с помощью pandas, matplotlib, seaborn, plotly и других инструментов.\n",
    "\n"
   ]
  },
  {
   "cell_type": "code",
   "execution_count": 2,
   "metadata": {
    "collapsed": false,
    "jupyter": {
     "outputs_hidden": false
    },
    "pycharm": {
     "name": "#%%\n"
    }
   },
   "outputs": [],
   "source": [
    "import requests"
   ]
  },
  {
   "cell_type": "markdown",
   "metadata": {
    "pycharm": {
     "name": "#%% md\n"
    }
   },
   "source": [
    "## Список объектов"
   ]
  },
  {
   "cell_type": "code",
   "execution_count": 25,
   "metadata": {
    "collapsed": false,
    "jupyter": {
     "outputs_hidden": false
    },
    "pycharm": {
     "name": "#%%\n"
    }
   },
   "outputs": [],
   "source": [
    "offset_ = 1\n",
    "limit_ = 1000\n",
    "url = f'https://xn--80az8a.xn--d1aqf.xn--p1ai/%D1%81%D0%B5%D1%80%D0%B2%D0%B8%D1%81%D1%8B/api/kn/object?offset={offset_}&limit={limit_}&sortField=devId.devShortCleanNm&sortType=asc&objStatus=0'\n",
    "res = requests.get(url)\n",
    "objects_data = res.json()"
   ]
  },
  {
   "cell_type": "code",
   "execution_count": 35,
   "metadata": {},
   "outputs": [
    {
     "data": {
      "text/plain": [
       "dict_keys(['data', 'errcode'])"
      ]
     },
     "execution_count": 35,
     "metadata": {},
     "output_type": "execute_result"
    }
   ],
   "source": [
    "objects_data.keys()"
   ]
  },
  {
   "cell_type": "code",
   "execution_count": 32,
   "metadata": {
    "collapsed": true,
    "jupyter": {
     "outputs_hidden": true
    },
    "tags": []
   },
   "outputs": [
    {
     "data": {
      "text/plain": [
       "{'objId': 46896,\n",
       " 'developer': {'devId': 13315,\n",
       "  'shortName': 'КВАРТАЛ В АКАДЕМИЧЕСКОМ.ЕКАТЕРИНБУРГ',\n",
       "  'fullName': 'КВАРТАЛ В АКАДЕМИЧЕСКОМ.ЕКАТЕРИНБУРГ.СПЕЦИАЛИЗИРОВАННЫЙ ЗАСТРОЙЩИК',\n",
       "  'groupName': 'Брусника',\n",
       "  'orgForm': {'id': 4,\n",
       "   'fullForm': 'Общество с ограниченной ответственностью',\n",
       "   'shortForm': 'ООО'},\n",
       "  'companyGroup': 5791,\n",
       "  'devInn': '6671163830'},\n",
       " 'rpdRegionCd': 66,\n",
       " 'objAddr': 'г Екатеринбург',\n",
       " 'objCommercNm': 'Брусника в Академическом',\n",
       " 'objFloorMin': 9,\n",
       " 'objFloorMax': 11,\n",
       " 'objElemLivingCnt': 296,\n",
       " 'objReady100PercDt': '2024-12-31',\n",
       " 'objSquareLiving': 18638.0,\n",
       " 'objCompensFundFlg': 0,\n",
       " 'objProblemFlg': 0,\n",
       " 'latitude': 56.7676,\n",
       " 'longitude': 60.5319,\n",
       " 'problemFlag': 'NONE',\n",
       " 'siteStatus': 'Строящиеся',\n",
       " 'objGuarantyEscrowFlg': 1,\n",
       " 'residentialBuildings': 1,\n",
       " 'rpdNum': '66-001199',\n",
       " 'pdId': 607530,\n",
       " 'buildType': 'Жилое',\n",
       " 'objStatus': 0}"
      ]
     },
     "execution_count": 32,
     "metadata": {},
     "output_type": "execute_result"
    }
   ],
   "source": [
    "objects_data['data']['list'][len(objects_data['data']['list']) - 1]"
   ]
  },
  {
   "cell_type": "markdown",
   "metadata": {
    "pycharm": {
     "name": "#%% md\n"
    }
   },
   "source": [
    "# Данные по определенному объекту"
   ]
  },
  {
   "cell_type": "code",
   "execution_count": 7,
   "metadata": {
    "collapsed": false,
    "jupyter": {
     "outputs_hidden": false
    },
    "pycharm": {
     "name": "#%%\n"
    }
   },
   "outputs": [],
   "source": [
    "url = f'https://xn--80az8a.xn--d1aqf.xn--p1ai/%D1%81%D0%B5%D1%80%D0%B2%D0%B8%D1%81%D1%8B/api/object/36774'\n",
    "res = requests.get(url)\n",
    "objects_data = res.json()"
   ]
  },
  {
   "cell_type": "code",
   "execution_count": 8,
   "metadata": {
    "collapsed": true,
    "jupyter": {
     "outputs_hidden": true
    },
    "tags": []
   },
   "outputs": [
    {
     "data": {
      "text/plain": [
       "{'data': {'id': 36774,\n",
       "  'pdId': 351714,\n",
       "  'developer': {'devId': 6926,\n",
       "   'devShortCleanNm': 'ОКЕАН',\n",
       "   'devShortNm': 'ОКЕАН',\n",
       "   'devFullCleanNm': 'ОКЕАН',\n",
       "   'problObjCnt': 0,\n",
       "   'buildObjCnt': 1,\n",
       "   'comissObjCnt': 0,\n",
       "   'regRegionDesc': 'Башкортостан Республика',\n",
       "   'devPhoneNum': '+7(927)300-31-01',\n",
       "   'devSite': 'altun-yar.ru',\n",
       "   'devEmail': 'khabibovr@mail.ru',\n",
       "   'devInn': '0277093608',\n",
       "   'devOgrn': '1080277004521',\n",
       "   'devKpp': '027701001',\n",
       "   'devLegalAddr': 'Башкортостан Республика, город Уфа, проспект Проспект Октября дом 85',\n",
       "   'devFactAddr': 'Респ Башкортостан Город Уфа Проспект Октября д. 85',\n",
       "   'lastRpdId': 511041,\n",
       "   'fundGuarantyFlg': 0,\n",
       "   'devOrgRegRegionCd': 2,\n",
       "   'devEmplMainFullNm': 'Хабибов Рамиль Хамидуллович',\n",
       "   'developerGroupName': 'Океан',\n",
       "   'orgForm': {'id': 4,\n",
       "    'fullForm': 'Общество с ограниченной ответственностью',\n",
       "    'shortForm': 'ООО'},\n",
       "   'companyGroupId': 7250,\n",
       "   'objGuarantyEscrowFlg': 1,\n",
       "   'govFundFlg': 0},\n",
       "  'region': 2,\n",
       "  'address': 'г Уфа, ул Прибельская, д. 32, 32/1, 34',\n",
       "  'floorMin': 5,\n",
       "  'floorMax': 9,\n",
       "  'objElemLivingCnt': 0,\n",
       "  'objReady100PercDt': '2024-09-30',\n",
       "  'wallMaterialShortDesc': 'Монолит-кирпич',\n",
       "  'objLkFinishTypeDesc': 'Без отделки',\n",
       "  'objLkFreePlanDesc': 'Есть',\n",
       "  'objElemParkingCnt': 73,\n",
       "  'objSquareLiving': 0.0,\n",
       "  'rpdNum': '02-001200',\n",
       "  'rpdPdfLink': 'https://xn--80az8a.xn--d1aqf.xn--p1ai/api/ext/file/8455bc4e-fc18-46c6-b684-f86c7fe3da85',\n",
       "  'rpdIssueDttm': '07-10-2021 09:15',\n",
       "  'objLkLatitude': '54.6871',\n",
       "  'objLkLongitude': '55.9563',\n",
       "  'objCompensFundFlg': 0,\n",
       "  'objProblemFlg': 0,\n",
       "  'objLkClassDesc': 'Типовой',\n",
       "  'loadDttm': '20-10-2022 01:25',\n",
       "  'photoRenderDTO': [{'objId': 36774,\n",
       "    'pdId': 351714,\n",
       "    'rpdId': 511041,\n",
       "    'devId': 6926,\n",
       "    'ordNum': 1,\n",
       "    'objRenderPhotoSize': 406650,\n",
       "    'objRenderPhotoUrl': 'https://xn--80az8a.xn--d1aqf.xn--p1ai/api/ext/file/7d361bd3-f91d-47ac-a468-19ba445ce116',\n",
       "    'objRenderPhotoDttm': '25-08-2020 12:17',\n",
       "    'objRenderPhotoHiddenFlg': 0,\n",
       "    'objRenderPhotoNm': '1.jpg',\n",
       "    'objReadyDesc': 'Строится',\n",
       "    'objBuildTypeShortDesc': 'Нежилое',\n",
       "    'knFlg': 0,\n",
       "    'loadDttm': '20-10-2022 01:08'},\n",
       "   {'objId': 36774,\n",
       "    'pdId': 351714,\n",
       "    'rpdId': 511041,\n",
       "    'devId': 6926,\n",
       "    'ordNum': 2,\n",
       "    'objRenderPhotoSize': 474129,\n",
       "    'objRenderPhotoUrl': 'https://xn--80az8a.xn--d1aqf.xn--p1ai/api/ext/file/f4cd2621-6ed8-42c6-a864-105d08dc8fed',\n",
       "    'objRenderPhotoDttm': '25-08-2020 12:17',\n",
       "    'objRenderPhotoHiddenFlg': 0,\n",
       "    'objRenderPhotoNm': '21.jpg',\n",
       "    'objReadyDesc': 'Строится',\n",
       "    'objBuildTypeShortDesc': 'Нежилое',\n",
       "    'knFlg': 0,\n",
       "    'loadDttm': '20-10-2022 01:08'}],\n",
       "  'objGuarantyEscrowFlg': 1,\n",
       "  'objectType': 'normal',\n",
       "  'miniUrl': 'https://xn--80az8a.xn--d1aqf.xn--p1ai/api/ext/file/882375c0-5d57-471d-9998-2ea99f0d81d9',\n",
       "  'residentialBuildings': 0,\n",
       "  'newBuildingId': 117025,\n",
       "  'objFloorCnt': 9,\n",
       "  'objFlatCnt': 0,\n",
       "  'objFlatSq': '0.0',\n",
       "  'objNonlivElemCnt': 173,\n",
       "  'objStatus': 0,\n",
       "  'isAvailableWantLiveHere': True,\n",
       "  'objTransferPlanDt': '31-08-2024 12:00',\n",
       "  'objInfrstrBicycleLaneFlg': 0,\n",
       "  'objInfrstrPlaygrndCnt': 0,\n",
       "  'objInfrstrSportGroundCnt': 0,\n",
       "  'objInfrstrTrashAreaCnt': 0,\n",
       "  'objInfrstrObjPrkngCnt': 0,\n",
       "  'objInfrstrNotObjPrkngCnt': 0,\n",
       "  'objInfrstrRampFlg': 0,\n",
       "  'objInfrstrCurbLoweringFlg': 0,\n",
       "  'objElevatorWheelchairCnt': 0,\n",
       "  'objElevatorPassengerCnt': 5,\n",
       "  'objElevatorCargoCnt': 0,\n",
       "  'objElevatorCargoPassengerCnt': 0,\n",
       "  'soldOutPerc': 1.0,\n",
       "  'objPriceAvg': 45187,\n",
       "  'generalContractorNm': 'ООО НЕРУД ИНВЕСТ (ИНН: 0277077148)',\n",
       "  'nonlivFirstFloor': 1,\n",
       "  'objectTransportInfo': [],\n",
       "  'conclusion': False,\n",
       "  'objLkSaleDepEmail': 'khabibovr@mail.ru',\n",
       "  'objGreenHouseFlg': 0,\n",
       "  'objEnergyEffShortDesc': 'C',\n",
       "  'infrastructureIndexValue': 4},\n",
       " 'errcode': '0'}"
      ]
     },
     "execution_count": 8,
     "metadata": {},
     "output_type": "execute_result"
    }
   ],
   "source": [
    "objects_data"
   ]
  },
  {
   "cell_type": "code",
   "execution_count": 76,
   "metadata": {},
   "outputs": [],
   "source": [
    "from tqdm import tqdm\n",
    "import pandas as pd\n",
    "import sqlite3"
   ]
  },
  {
   "cell_type": "code",
   "execution_count": 176,
   "metadata": {
    "collapsed": false,
    "jupyter": {
     "outputs_hidden": false
    },
    "pycharm": {
     "name": "#%%\n"
    }
   },
   "outputs": [],
   "source": [
    "class DomIdLoader:\n",
    "    def __init__(self):\n",
    "        self.offset_ = 1\n",
    "        self.limit_ = 100\n",
    "        self.url = 'https://xn--80az8a.xn--d1aqf.xn--p1ai/%D1%81%D0%B5%D1%80%D0%B2%D0%B8%D1%81%D1%8B/api/kn/object'\n",
    "        self.objects_data = None\n",
    "        self.ids = None\n",
    "    \n",
    "    # получить массив с id каждой недвижимости\n",
    "    def get_ids(self):\n",
    "        paramz = {\n",
    "            'offset': self.offset_,\n",
    "            'limit': self.limit_,\n",
    "            'sortField':'devId.devShortCleanNm',\n",
    "            'sortType':'asc',\n",
    "            'objStatus':'0',\n",
    "        }\n",
    "        res = requests.get(url, params=paramz)\n",
    "\n",
    "        self.objects_data = res.json()\n",
    "        self.objects_data = self.objects_data['data']['list']\n",
    "        self.ids = [i.get('objId') for i in self.objects_data]\n",
    "        return self.ids\n",
    "    # вывод массива\n",
    "    def show_ids(self):\n",
    "        print(self.ids)\n"
   ]
  },
  {
   "cell_type": "code",
   "execution_count": 180,
   "metadata": {
    "pycharm": {
     "name": "#%%\n"
    },
    "tags": []
   },
   "outputs": [],
   "source": [
    "class ObjectInfoExtractor(DomIdLoader):\n",
    "    def __init__(self):\n",
    "        self.offset_ = 1\n",
    "        self.limit_ = 100\n",
    "        self.url = 'https://xn--80az8a.xn--d1aqf.xn--p1ai/%D1%81%D0%B5%D1%80%D0%B2%D0%B8%D1%81%D1%8B/api/kn/object'\n",
    "        self.objects_data = None\n",
    "        self.ids = []\n",
    "        self.final_data = []\n",
    "        \n",
    "    def load_data(self):\n",
    "        for i in tqdm(self.ids):\n",
    "            self.url = f'https://xn--80az8a.xn--d1aqf.xn--p1ai/%D1%81%D0%B5%D1%80%D0%B2%D0%B8%D1%81%D1%8B/api/object/{i}'\n",
    "            res = requests.get(self.url)\n",
    "            self.final_data.append(res.json()['data'])\n",
    "\n",
    "    def df_converter(self):\n",
    "        return pd.json_normalize(self.final_data)\n",
    "    \n",
    "    def transformation_data(self, df):\n",
    "        cat_features_mask = (df.dtypes == \"object\").values\n",
    "\n",
    "        # для вещественнозначных признаков заполним пропуски средними\n",
    "        X_real = df[df.columns[~cat_features_mask]]\n",
    "        mis_replacer = SimpleImputer(strategy=\"mean\")\n",
    "        X_no_mis_real = pd.DataFrame(data=mis_replacer.fit_transform(X_real), columns=X_real.columns)\n",
    "\n",
    "        # для категориальных - пустыми строками\n",
    "        X_cat = df[df.columns[cat_features_mask]].fillna(\"\")\n",
    "        X_1 = pd.concat([X_no_mis_real, X_cat], axis=1)\n",
    "        \n",
    "        self.final_data = X_1\n",
    "        return X_1"
   ]
  },
  {
   "cell_type": "markdown",
   "metadata": {},
   "source": [
    "**Скачаем данные используя наши новые классы)**"
   ]
  },
  {
   "cell_type": "code",
   "execution_count": 81,
   "metadata": {
    "tags": []
   },
   "outputs": [
    {
     "name": "stderr",
     "output_type": "stream",
     "text": [
      "100%|██████████| 1000/1000 [06:37<00:00,  2.52it/s]\n"
     ]
    }
   ],
   "source": [
    "a = DomIdLoader()\n",
    "b = ObjectInfoExtractor(a.get_ids())\n",
    "b.load_data()\n",
    "df = b.df_converter()\n"
   ]
  },
  {
   "cell_type": "markdown",
   "metadata": {},
   "source": [
    "Тут демонстрируется работа наследования))"
   ]
  },
  {
   "cell_type": "code",
   "execution_count": 182,
   "metadata": {},
   "outputs": [
    {
     "name": "stderr",
     "output_type": "stream",
     "text": [
      "100%|██████████| 1000/1000 [03:09<00:00,  5.27it/s]\n"
     ]
    },
    {
     "data": {
      "text/html": [
       "<div>\n",
       "<style scoped>\n",
       "    .dataframe tbody tr th:only-of-type {\n",
       "        vertical-align: middle;\n",
       "    }\n",
       "\n",
       "    .dataframe tbody tr th {\n",
       "        vertical-align: top;\n",
       "    }\n",
       "\n",
       "    .dataframe thead th {\n",
       "        text-align: right;\n",
       "    }\n",
       "</style>\n",
       "<table border=\"1\" class=\"dataframe\">\n",
       "  <thead>\n",
       "    <tr style=\"text-align: right;\">\n",
       "      <th></th>\n",
       "      <th>id</th>\n",
       "      <th>pdId</th>\n",
       "      <th>region</th>\n",
       "      <th>floorMin</th>\n",
       "      <th>floorMax</th>\n",
       "      <th>objElemLivingCnt</th>\n",
       "      <th>objElemParkingCnt</th>\n",
       "      <th>objSquareLiving</th>\n",
       "      <th>objCompensFundFlg</th>\n",
       "      <th>objProblemFlg</th>\n",
       "      <th>...</th>\n",
       "      <th>complexShortNm</th>\n",
       "      <th>developer.bankruptStage.bankruptStageDesc</th>\n",
       "      <th>developer.bankruptStage.bankruptLawUrl</th>\n",
       "      <th>developer.orgBankruptMsgDttm</th>\n",
       "      <th>metro.id</th>\n",
       "      <th>metro.name</th>\n",
       "      <th>metro.line</th>\n",
       "      <th>metro.color</th>\n",
       "      <th>metro.isWalk</th>\n",
       "      <th>metro.colors</th>\n",
       "    </tr>\n",
       "  </thead>\n",
       "  <tbody>\n",
       "    <tr>\n",
       "      <th>0</th>\n",
       "      <td>13383.0</td>\n",
       "      <td>28105.0</td>\n",
       "      <td>72.0</td>\n",
       "      <td>4.0</td>\n",
       "      <td>20.0</td>\n",
       "      <td>68.0</td>\n",
       "      <td>31.0</td>\n",
       "      <td>6293.78</td>\n",
       "      <td>1.0</td>\n",
       "      <td>0.0</td>\n",
       "      <td>...</td>\n",
       "      <td></td>\n",
       "      <td></td>\n",
       "      <td></td>\n",
       "      <td></td>\n",
       "      <td></td>\n",
       "      <td></td>\n",
       "      <td></td>\n",
       "      <td></td>\n",
       "      <td></td>\n",
       "      <td></td>\n",
       "    </tr>\n",
       "    <tr>\n",
       "      <th>1</th>\n",
       "      <td>13397.0</td>\n",
       "      <td>28141.0</td>\n",
       "      <td>72.0</td>\n",
       "      <td>6.0</td>\n",
       "      <td>12.0</td>\n",
       "      <td>65.0</td>\n",
       "      <td>0.0</td>\n",
       "      <td>6248.51</td>\n",
       "      <td>0.0</td>\n",
       "      <td>0.0</td>\n",
       "      <td>...</td>\n",
       "      <td></td>\n",
       "      <td></td>\n",
       "      <td></td>\n",
       "      <td></td>\n",
       "      <td></td>\n",
       "      <td></td>\n",
       "      <td></td>\n",
       "      <td></td>\n",
       "      <td></td>\n",
       "      <td></td>\n",
       "    </tr>\n",
       "    <tr>\n",
       "      <th>2</th>\n",
       "      <td>13398.0</td>\n",
       "      <td>28141.0</td>\n",
       "      <td>72.0</td>\n",
       "      <td>7.0</td>\n",
       "      <td>10.0</td>\n",
       "      <td>43.0</td>\n",
       "      <td>0.0</td>\n",
       "      <td>4812.98</td>\n",
       "      <td>0.0</td>\n",
       "      <td>0.0</td>\n",
       "      <td>...</td>\n",
       "      <td></td>\n",
       "      <td></td>\n",
       "      <td></td>\n",
       "      <td></td>\n",
       "      <td></td>\n",
       "      <td></td>\n",
       "      <td></td>\n",
       "      <td></td>\n",
       "      <td></td>\n",
       "      <td></td>\n",
       "    </tr>\n",
       "    <tr>\n",
       "      <th>3</th>\n",
       "      <td>13399.0</td>\n",
       "      <td>28141.0</td>\n",
       "      <td>72.0</td>\n",
       "      <td>1.0</td>\n",
       "      <td>1.0</td>\n",
       "      <td>0.0</td>\n",
       "      <td>125.0</td>\n",
       "      <td>0.00</td>\n",
       "      <td>0.0</td>\n",
       "      <td>0.0</td>\n",
       "      <td>...</td>\n",
       "      <td></td>\n",
       "      <td></td>\n",
       "      <td></td>\n",
       "      <td></td>\n",
       "      <td></td>\n",
       "      <td></td>\n",
       "      <td></td>\n",
       "      <td></td>\n",
       "      <td></td>\n",
       "      <td></td>\n",
       "    </tr>\n",
       "    <tr>\n",
       "      <th>4</th>\n",
       "      <td>13391.0</td>\n",
       "      <td>28101.0</td>\n",
       "      <td>72.0</td>\n",
       "      <td>3.0</td>\n",
       "      <td>12.0</td>\n",
       "      <td>44.0</td>\n",
       "      <td>41.0</td>\n",
       "      <td>4297.44</td>\n",
       "      <td>1.0</td>\n",
       "      <td>0.0</td>\n",
       "      <td>...</td>\n",
       "      <td></td>\n",
       "      <td></td>\n",
       "      <td></td>\n",
       "      <td></td>\n",
       "      <td></td>\n",
       "      <td></td>\n",
       "      <td></td>\n",
       "      <td></td>\n",
       "      <td></td>\n",
       "      <td></td>\n",
       "    </tr>\n",
       "    <tr>\n",
       "      <th>...</th>\n",
       "      <td>...</td>\n",
       "      <td>...</td>\n",
       "      <td>...</td>\n",
       "      <td>...</td>\n",
       "      <td>...</td>\n",
       "      <td>...</td>\n",
       "      <td>...</td>\n",
       "      <td>...</td>\n",
       "      <td>...</td>\n",
       "      <td>...</td>\n",
       "      <td>...</td>\n",
       "      <td>...</td>\n",
       "      <td>...</td>\n",
       "      <td>...</td>\n",
       "      <td>...</td>\n",
       "      <td>...</td>\n",
       "      <td>...</td>\n",
       "      <td>...</td>\n",
       "      <td>...</td>\n",
       "      <td>...</td>\n",
       "      <td>...</td>\n",
       "    </tr>\n",
       "    <tr>\n",
       "      <th>995</th>\n",
       "      <td>36585.0</td>\n",
       "      <td>341403.0</td>\n",
       "      <td>54.0</td>\n",
       "      <td>7.0</td>\n",
       "      <td>19.0</td>\n",
       "      <td>273.0</td>\n",
       "      <td>189.0</td>\n",
       "      <td>19638.61</td>\n",
       "      <td>0.0</td>\n",
       "      <td>0.0</td>\n",
       "      <td>...</td>\n",
       "      <td></td>\n",
       "      <td></td>\n",
       "      <td></td>\n",
       "      <td></td>\n",
       "      <td></td>\n",
       "      <td></td>\n",
       "      <td></td>\n",
       "      <td></td>\n",
       "      <td></td>\n",
       "      <td></td>\n",
       "    </tr>\n",
       "    <tr>\n",
       "      <th>996</th>\n",
       "      <td>42678.0</td>\n",
       "      <td>503705.0</td>\n",
       "      <td>54.0</td>\n",
       "      <td>7.0</td>\n",
       "      <td>19.0</td>\n",
       "      <td>339.0</td>\n",
       "      <td>182.0</td>\n",
       "      <td>25446.34</td>\n",
       "      <td>0.0</td>\n",
       "      <td>0.0</td>\n",
       "      <td>...</td>\n",
       "      <td></td>\n",
       "      <td></td>\n",
       "      <td></td>\n",
       "      <td></td>\n",
       "      <td></td>\n",
       "      <td></td>\n",
       "      <td></td>\n",
       "      <td></td>\n",
       "      <td></td>\n",
       "      <td></td>\n",
       "    </tr>\n",
       "    <tr>\n",
       "      <th>997</th>\n",
       "      <td>47111.0</td>\n",
       "      <td>615026.0</td>\n",
       "      <td>54.0</td>\n",
       "      <td>9.0</td>\n",
       "      <td>17.0</td>\n",
       "      <td>243.0</td>\n",
       "      <td>65.0</td>\n",
       "      <td>14213.34</td>\n",
       "      <td>0.0</td>\n",
       "      <td>0.0</td>\n",
       "      <td>...</td>\n",
       "      <td></td>\n",
       "      <td></td>\n",
       "      <td></td>\n",
       "      <td></td>\n",
       "      <td></td>\n",
       "      <td></td>\n",
       "      <td></td>\n",
       "      <td></td>\n",
       "      <td></td>\n",
       "      <td></td>\n",
       "    </tr>\n",
       "    <tr>\n",
       "      <th>998</th>\n",
       "      <td>46896.0</td>\n",
       "      <td>607530.0</td>\n",
       "      <td>66.0</td>\n",
       "      <td>9.0</td>\n",
       "      <td>11.0</td>\n",
       "      <td>296.0</td>\n",
       "      <td>99.0</td>\n",
       "      <td>18638.00</td>\n",
       "      <td>0.0</td>\n",
       "      <td>0.0</td>\n",
       "      <td>...</td>\n",
       "      <td></td>\n",
       "      <td></td>\n",
       "      <td></td>\n",
       "      <td></td>\n",
       "      <td></td>\n",
       "      <td></td>\n",
       "      <td></td>\n",
       "      <td></td>\n",
       "      <td></td>\n",
       "      <td></td>\n",
       "    </tr>\n",
       "    <tr>\n",
       "      <th>999</th>\n",
       "      <td>43204.0</td>\n",
       "      <td>516372.0</td>\n",
       "      <td>66.0</td>\n",
       "      <td>9.0</td>\n",
       "      <td>17.0</td>\n",
       "      <td>318.0</td>\n",
       "      <td>99.0</td>\n",
       "      <td>21872.10</td>\n",
       "      <td>0.0</td>\n",
       "      <td>0.0</td>\n",
       "      <td>...</td>\n",
       "      <td></td>\n",
       "      <td></td>\n",
       "      <td></td>\n",
       "      <td></td>\n",
       "      <td></td>\n",
       "      <td></td>\n",
       "      <td></td>\n",
       "      <td></td>\n",
       "      <td></td>\n",
       "      <td></td>\n",
       "    </tr>\n",
       "  </tbody>\n",
       "</table>\n",
       "<p>1000 rows × 109 columns</p>\n",
       "</div>"
      ],
      "text/plain": [
       "          id      pdId  region  floorMin  floorMax  objElemLivingCnt  \\\n",
       "0    13383.0   28105.0    72.0       4.0      20.0              68.0   \n",
       "1    13397.0   28141.0    72.0       6.0      12.0              65.0   \n",
       "2    13398.0   28141.0    72.0       7.0      10.0              43.0   \n",
       "3    13399.0   28141.0    72.0       1.0       1.0               0.0   \n",
       "4    13391.0   28101.0    72.0       3.0      12.0              44.0   \n",
       "..       ...       ...     ...       ...       ...               ...   \n",
       "995  36585.0  341403.0    54.0       7.0      19.0             273.0   \n",
       "996  42678.0  503705.0    54.0       7.0      19.0             339.0   \n",
       "997  47111.0  615026.0    54.0       9.0      17.0             243.0   \n",
       "998  46896.0  607530.0    66.0       9.0      11.0             296.0   \n",
       "999  43204.0  516372.0    66.0       9.0      17.0             318.0   \n",
       "\n",
       "     objElemParkingCnt  objSquareLiving  objCompensFundFlg  objProblemFlg  \\\n",
       "0                 31.0          6293.78                1.0            0.0   \n",
       "1                  0.0          6248.51                0.0            0.0   \n",
       "2                  0.0          4812.98                0.0            0.0   \n",
       "3                125.0             0.00                0.0            0.0   \n",
       "4                 41.0          4297.44                1.0            0.0   \n",
       "..                 ...              ...                ...            ...   \n",
       "995              189.0         19638.61                0.0            0.0   \n",
       "996              182.0         25446.34                0.0            0.0   \n",
       "997               65.0         14213.34                0.0            0.0   \n",
       "998               99.0         18638.00                0.0            0.0   \n",
       "999               99.0         21872.10                0.0            0.0   \n",
       "\n",
       "     ...  complexShortNm  developer.bankruptStage.bankruptStageDesc  \\\n",
       "0    ...                                                              \n",
       "1    ...                                                              \n",
       "2    ...                                                              \n",
       "3    ...                                                              \n",
       "4    ...                                                              \n",
       "..   ...             ...                                        ...   \n",
       "995  ...                                                              \n",
       "996  ...                                                              \n",
       "997  ...                                                              \n",
       "998  ...                                                              \n",
       "999  ...                                                              \n",
       "\n",
       "     developer.bankruptStage.bankruptLawUrl  developer.orgBankruptMsgDttm  \\\n",
       "0                                                                           \n",
       "1                                                                           \n",
       "2                                                                           \n",
       "3                                                                           \n",
       "4                                                                           \n",
       "..                                      ...                           ...   \n",
       "995                                                                         \n",
       "996                                                                         \n",
       "997                                                                         \n",
       "998                                                                         \n",
       "999                                                                         \n",
       "\n",
       "     metro.id  metro.name  metro.line  metro.color  metro.isWalk  metro.colors  \n",
       "0                                                                               \n",
       "1                                                                               \n",
       "2                                                                               \n",
       "3                                                                               \n",
       "4                                                                               \n",
       "..        ...         ...         ...          ...           ...           ...  \n",
       "995                                                                             \n",
       "996                                                                             \n",
       "997                                                                             \n",
       "998                                                                             \n",
       "999                                                                             \n",
       "\n",
       "[1000 rows x 109 columns]"
      ]
     },
     "execution_count": 182,
     "metadata": {},
     "output_type": "execute_result"
    }
   ],
   "source": [
    "c = ObjectInfoExtractor()\n",
    "c.get_ids()\n",
    "c.load_data()\n",
    "df1 = c.transformation_data(c.df_converter())\n",
    "df1"
   ]
  },
  {
   "cell_type": "code",
   "execution_count": null,
   "metadata": {},
   "outputs": [],
   "source": []
  },
  {
   "cell_type": "markdown",
   "metadata": {},
   "source": [
    "**Проведем EDA - разведочный анализ данных и приведем их в боллее правильный вид**"
   ]
  },
  {
   "cell_type": "code",
   "execution_count": 112,
   "metadata": {},
   "outputs": [
    {
     "data": {
      "text/plain": [
       "(1000, 109)"
      ]
     },
     "execution_count": 112,
     "metadata": {},
     "output_type": "execute_result"
    }
   ],
   "source": [
    "df.shape"
   ]
  },
  {
   "cell_type": "markdown",
   "metadata": {},
   "source": [
    "**Смотрим наличие пропусков**"
   ]
  },
  {
   "cell_type": "code",
   "execution_count": 127,
   "metadata": {
    "collapsed": true,
    "jupyter": {
     "outputs_hidden": true
    },
    "tags": []
   },
   "outputs": [
    {
     "name": "stdout",
     "output_type": "stream",
     "text": [
      "id 0\n",
      "pdId 0\n",
      "region 0\n",
      "address 1\n",
      "floorMin 1\n",
      "floorMax 0\n",
      "objElemLivingCnt 0\n",
      "objReady100PercDt 0\n",
      "wallMaterialShortDesc 0\n",
      "objLkFinishTypeDesc 0\n",
      "objLkFreePlanDesc 1\n",
      "objElemParkingCnt 0\n",
      "objSquareLiving 0\n",
      "rpdNum 0\n",
      "rpdPdfLink 0\n",
      "rpdIssueDttm 0\n",
      "objLkLatitude 0\n",
      "objLkLongitude 0\n",
      "objCompensFundFlg 0\n",
      "objProblemFlg 0\n",
      "objLkClassDesc 0\n",
      "loadDttm 0\n",
      "photoRenderDTO 0\n",
      "objGuarantyEscrowFlg 0\n",
      "objectType 0\n",
      "miniUrl 9\n",
      "residentialBuildings 0\n",
      "newBuildingId 0\n",
      "objFloorCnt 0\n",
      "objFlatCnt 0\n",
      "objFlatSq 0\n",
      "objNonlivElemCnt 0\n",
      "objStatus 0\n",
      "isAvailableWantLiveHere 0\n",
      "objTransferPlanDt 36\n",
      "objLivCeilingHeight 173\n",
      "objInfrstrBicycleLaneFlg 0\n",
      "objInfrstrPlaygrndCnt 25\n",
      "objInfrstrSportGroundCnt 27\n",
      "objInfrstrTrashAreaCnt 25\n",
      "objInfrstrObjPrkngCnt 25\n",
      "objInfrstrNotObjPrkngCnt 25\n",
      "objInfrstrRampFlg 0\n",
      "objInfrstrCurbLoweringFlg 0\n",
      "objElevatorWheelchairCnt 25\n",
      "objElevatorPassengerCnt 25\n",
      "objElevatorCargoCnt 25\n",
      "objElevatorCargoPassengerCnt 0\n",
      "soldOutPerc 358\n",
      "objPriceAvg 360\n",
      "generalContractorNm 330\n",
      "nonlivFirstFloor 1\n",
      "objectTransportInfo 0\n",
      "conclusion 0\n",
      "objLkSaleDepEmail 95\n",
      "objGreenHouseFlg 0\n",
      "objEnergyEffShortDesc 0\n",
      "infrastructureIndexValue 0\n",
      "developer.devId 0\n",
      "developer.devShortCleanNm 0\n",
      "developer.devShortNm 0\n",
      "developer.devFullCleanNm 0\n",
      "developer.problObjCnt 0\n",
      "developer.buildObjCnt 0\n",
      "developer.comissObjCnt 0\n",
      "developer.regRegionDesc 8\n",
      "developer.devPhoneNum 1\n",
      "developer.devSite 0\n",
      "developer.devEmail 1\n",
      "developer.devInn 0\n",
      "developer.devOgrn 0\n",
      "developer.devKpp 0\n",
      "developer.devLegalAddr 0\n",
      "developer.devFactAddr 1\n",
      "developer.lastRpdId 0\n",
      "developer.fundGuarantyFlg 0\n",
      "developer.devOrgRegRegionCd 8\n",
      "developer.devEmplMainFullNm 0\n",
      "developer.developerGroupName 286\n",
      "developer.orgForm.id 0\n",
      "developer.orgForm.fullForm 0\n",
      "developer.orgForm.shortForm 0\n",
      "developer.companyGroupId 286\n",
      "developer.objGuarantyEscrowFlg 0\n",
      "developer.govFundFlg 0\n",
      "quartography.objLivElem1KCnt 147\n",
      "quartography.objLivElem2KCnt 147\n",
      "quartography.objLivElem3KCnt 147\n",
      "quartography.objLivElem4KCnt 147\n",
      "quartography.objLivElemCnt 147\n",
      "quartography.objLivElemEntrCnt 147\n",
      "quartography.objLivElemEntrFloorAvg 147\n",
      "transportDistIndex 768\n",
      "transportDistIndexValue 768\n",
      "nameObj 221\n",
      "complexShortNm 850\n",
      "airQualityIndexValue 781\n",
      "greenAreaIndexValue 729\n",
      "developer.bankruptStage.bankruptStageCd 953\n",
      "developer.bankruptStage.bankruptStageDesc 953\n",
      "developer.bankruptStage.bankruptLawUrl 953\n",
      "developer.orgBankruptMsgDttm 953\n",
      "metro.id 959\n",
      "metro.name 959\n",
      "metro.line 959\n",
      "metro.color 959\n",
      "metro.time 959\n",
      "metro.isWalk 959\n",
      "metro.colors 959\n"
     ]
    }
   ],
   "source": [
    "nulls = df.isna().sum()\n",
    "col = df.columns\n",
    "index = []\n",
    "for i in col:\n",
    "    index.append(i)\n",
    "    print (i, nulls[i])"
   ]
  },
  {
   "cell_type": "markdown",
   "metadata": {
    "tags": []
   },
   "source": [
    "**Определяем тип признаков категориальный или вещественный**"
   ]
  },
  {
   "cell_type": "code",
   "execution_count": 136,
   "metadata": {
    "collapsed": true,
    "jupyter": {
     "outputs_hidden": true
    },
    "tags": []
   },
   "outputs": [
    {
     "name": "stdout",
     "output_type": "stream",
     "text": [
      "id int64\n",
      "pdId int64\n",
      "region int64\n",
      "address object\n",
      "floorMin float64\n",
      "floorMax int64\n",
      "objElemLivingCnt int64\n",
      "objReady100PercDt object\n",
      "wallMaterialShortDesc object\n",
      "objLkFinishTypeDesc object\n",
      "objLkFreePlanDesc object\n",
      "objElemParkingCnt int64\n",
      "objSquareLiving float64\n",
      "rpdNum object\n",
      "rpdPdfLink object\n",
      "rpdIssueDttm object\n",
      "objLkLatitude object\n",
      "objLkLongitude object\n",
      "objCompensFundFlg int64\n",
      "objProblemFlg int64\n",
      "objLkClassDesc object\n",
      "loadDttm object\n",
      "photoRenderDTO object\n",
      "objGuarantyEscrowFlg int64\n",
      "objectType object\n",
      "miniUrl object\n",
      "residentialBuildings int64\n",
      "newBuildingId int64\n",
      "objFloorCnt int64\n",
      "objFlatCnt int64\n",
      "objFlatSq object\n",
      "objNonlivElemCnt int64\n",
      "objStatus int64\n",
      "isAvailableWantLiveHere bool\n",
      "objTransferPlanDt object\n",
      "objLivCeilingHeight object\n",
      "objInfrstrBicycleLaneFlg int64\n",
      "objInfrstrPlaygrndCnt float64\n",
      "objInfrstrSportGroundCnt float64\n",
      "objInfrstrTrashAreaCnt float64\n",
      "objInfrstrObjPrkngCnt float64\n",
      "objInfrstrNotObjPrkngCnt float64\n",
      "objInfrstrRampFlg int64\n",
      "objInfrstrCurbLoweringFlg int64\n",
      "objElevatorWheelchairCnt float64\n",
      "objElevatorPassengerCnt float64\n",
      "objElevatorCargoCnt float64\n",
      "objElevatorCargoPassengerCnt int64\n",
      "soldOutPerc float64\n",
      "objPriceAvg float64\n",
      "generalContractorNm object\n",
      "nonlivFirstFloor float64\n",
      "objectTransportInfo object\n",
      "conclusion bool\n",
      "objLkSaleDepEmail object\n",
      "objGreenHouseFlg int64\n",
      "objEnergyEffShortDesc object\n",
      "infrastructureIndexValue int64\n",
      "developer.devId int64\n",
      "developer.devShortCleanNm object\n",
      "developer.devShortNm object\n",
      "developer.devFullCleanNm object\n",
      "developer.problObjCnt int64\n",
      "developer.buildObjCnt int64\n",
      "developer.comissObjCnt int64\n",
      "developer.regRegionDesc object\n",
      "developer.devPhoneNum object\n",
      "developer.devSite object\n",
      "developer.devEmail object\n",
      "developer.devInn object\n",
      "developer.devOgrn object\n",
      "developer.devKpp object\n",
      "developer.devLegalAddr object\n",
      "developer.devFactAddr object\n",
      "developer.lastRpdId int64\n",
      "developer.fundGuarantyFlg int64\n",
      "developer.devOrgRegRegionCd float64\n",
      "developer.devEmplMainFullNm object\n",
      "developer.developerGroupName object\n",
      "developer.orgForm.id int64\n",
      "developer.orgForm.fullForm object\n",
      "developer.orgForm.shortForm object\n",
      "developer.companyGroupId float64\n",
      "developer.objGuarantyEscrowFlg int64\n",
      "developer.govFundFlg int64\n",
      "quartography.objLivElem1KCnt float64\n",
      "quartography.objLivElem2KCnt float64\n",
      "quartography.objLivElem3KCnt float64\n",
      "quartography.objLivElem4KCnt float64\n",
      "quartography.objLivElemCnt float64\n",
      "quartography.objLivElemEntrCnt float64\n",
      "quartography.objLivElemEntrFloorAvg float64\n",
      "transportDistIndex object\n",
      "transportDistIndexValue float64\n",
      "nameObj object\n",
      "complexShortNm object\n",
      "airQualityIndexValue float64\n",
      "greenAreaIndexValue float64\n",
      "developer.bankruptStage.bankruptStageCd float64\n",
      "developer.bankruptStage.bankruptStageDesc object\n",
      "developer.bankruptStage.bankruptLawUrl object\n",
      "developer.orgBankruptMsgDttm object\n",
      "metro.id object\n",
      "metro.name object\n",
      "metro.line object\n",
      "metro.color object\n",
      "metro.time float64\n",
      "metro.isWalk object\n",
      "metro.colors object\n"
     ]
    }
   ],
   "source": [
    "nulls = df.dtypes\n",
    "col = df.columns\n",
    "index = []\n",
    "for i in col:\n",
    "    index.append(i)\n",
    "    print (i, nulls[i])"
   ]
  },
  {
   "cell_type": "markdown",
   "metadata": {},
   "source": [
    "**Заполняем пропуски, чтобы не мешались**"
   ]
  },
  {
   "cell_type": "code",
   "execution_count": 139,
   "metadata": {},
   "outputs": [
    {
     "data": {
      "text/html": [
       "<div>\n",
       "<style scoped>\n",
       "    .dataframe tbody tr th:only-of-type {\n",
       "        vertical-align: middle;\n",
       "    }\n",
       "\n",
       "    .dataframe tbody tr th {\n",
       "        vertical-align: top;\n",
       "    }\n",
       "\n",
       "    .dataframe thead th {\n",
       "        text-align: right;\n",
       "    }\n",
       "</style>\n",
       "<table border=\"1\" class=\"dataframe\">\n",
       "  <thead>\n",
       "    <tr style=\"text-align: right;\">\n",
       "      <th></th>\n",
       "      <th>id</th>\n",
       "      <th>pdId</th>\n",
       "      <th>region</th>\n",
       "      <th>floorMin</th>\n",
       "      <th>floorMax</th>\n",
       "      <th>objElemLivingCnt</th>\n",
       "      <th>objElemParkingCnt</th>\n",
       "      <th>objSquareLiving</th>\n",
       "      <th>objCompensFundFlg</th>\n",
       "      <th>objProblemFlg</th>\n",
       "      <th>...</th>\n",
       "      <th>complexShortNm</th>\n",
       "      <th>developer.bankruptStage.bankruptStageDesc</th>\n",
       "      <th>developer.bankruptStage.bankruptLawUrl</th>\n",
       "      <th>developer.orgBankruptMsgDttm</th>\n",
       "      <th>metro.id</th>\n",
       "      <th>metro.name</th>\n",
       "      <th>metro.line</th>\n",
       "      <th>metro.color</th>\n",
       "      <th>metro.isWalk</th>\n",
       "      <th>metro.colors</th>\n",
       "    </tr>\n",
       "  </thead>\n",
       "  <tbody>\n",
       "    <tr>\n",
       "      <th>0</th>\n",
       "      <td>13397.0</td>\n",
       "      <td>28141.0</td>\n",
       "      <td>72.0</td>\n",
       "      <td>6.0</td>\n",
       "      <td>12.0</td>\n",
       "      <td>65.0</td>\n",
       "      <td>0.0</td>\n",
       "      <td>6248.51</td>\n",
       "      <td>0.0</td>\n",
       "      <td>0.0</td>\n",
       "      <td>...</td>\n",
       "      <td></td>\n",
       "      <td></td>\n",
       "      <td></td>\n",
       "      <td></td>\n",
       "      <td></td>\n",
       "      <td></td>\n",
       "      <td></td>\n",
       "      <td></td>\n",
       "      <td></td>\n",
       "      <td></td>\n",
       "    </tr>\n",
       "    <tr>\n",
       "      <th>1</th>\n",
       "      <td>13391.0</td>\n",
       "      <td>28101.0</td>\n",
       "      <td>72.0</td>\n",
       "      <td>3.0</td>\n",
       "      <td>12.0</td>\n",
       "      <td>44.0</td>\n",
       "      <td>41.0</td>\n",
       "      <td>4297.44</td>\n",
       "      <td>1.0</td>\n",
       "      <td>0.0</td>\n",
       "      <td>...</td>\n",
       "      <td></td>\n",
       "      <td></td>\n",
       "      <td></td>\n",
       "      <td></td>\n",
       "      <td></td>\n",
       "      <td></td>\n",
       "      <td></td>\n",
       "      <td></td>\n",
       "      <td></td>\n",
       "      <td></td>\n",
       "    </tr>\n",
       "    <tr>\n",
       "      <th>2</th>\n",
       "      <td>13383.0</td>\n",
       "      <td>28105.0</td>\n",
       "      <td>72.0</td>\n",
       "      <td>4.0</td>\n",
       "      <td>20.0</td>\n",
       "      <td>68.0</td>\n",
       "      <td>31.0</td>\n",
       "      <td>6293.78</td>\n",
       "      <td>1.0</td>\n",
       "      <td>0.0</td>\n",
       "      <td>...</td>\n",
       "      <td></td>\n",
       "      <td></td>\n",
       "      <td></td>\n",
       "      <td></td>\n",
       "      <td></td>\n",
       "      <td></td>\n",
       "      <td></td>\n",
       "      <td></td>\n",
       "      <td></td>\n",
       "      <td></td>\n",
       "    </tr>\n",
       "    <tr>\n",
       "      <th>3</th>\n",
       "      <td>13398.0</td>\n",
       "      <td>28141.0</td>\n",
       "      <td>72.0</td>\n",
       "      <td>7.0</td>\n",
       "      <td>10.0</td>\n",
       "      <td>43.0</td>\n",
       "      <td>0.0</td>\n",
       "      <td>4812.98</td>\n",
       "      <td>0.0</td>\n",
       "      <td>0.0</td>\n",
       "      <td>...</td>\n",
       "      <td></td>\n",
       "      <td></td>\n",
       "      <td></td>\n",
       "      <td></td>\n",
       "      <td></td>\n",
       "      <td></td>\n",
       "      <td></td>\n",
       "      <td></td>\n",
       "      <td></td>\n",
       "      <td></td>\n",
       "    </tr>\n",
       "    <tr>\n",
       "      <th>4</th>\n",
       "      <td>13399.0</td>\n",
       "      <td>28141.0</td>\n",
       "      <td>72.0</td>\n",
       "      <td>1.0</td>\n",
       "      <td>1.0</td>\n",
       "      <td>0.0</td>\n",
       "      <td>125.0</td>\n",
       "      <td>0.00</td>\n",
       "      <td>0.0</td>\n",
       "      <td>0.0</td>\n",
       "      <td>...</td>\n",
       "      <td></td>\n",
       "      <td></td>\n",
       "      <td></td>\n",
       "      <td></td>\n",
       "      <td></td>\n",
       "      <td></td>\n",
       "      <td></td>\n",
       "      <td></td>\n",
       "      <td></td>\n",
       "      <td></td>\n",
       "    </tr>\n",
       "  </tbody>\n",
       "</table>\n",
       "<p>5 rows × 109 columns</p>\n",
       "</div>"
      ],
      "text/plain": [
       "        id     pdId  region  floorMin  floorMax  objElemLivingCnt  \\\n",
       "0  13397.0  28141.0    72.0       6.0      12.0              65.0   \n",
       "1  13391.0  28101.0    72.0       3.0      12.0              44.0   \n",
       "2  13383.0  28105.0    72.0       4.0      20.0              68.0   \n",
       "3  13398.0  28141.0    72.0       7.0      10.0              43.0   \n",
       "4  13399.0  28141.0    72.0       1.0       1.0               0.0   \n",
       "\n",
       "   objElemParkingCnt  objSquareLiving  objCompensFundFlg  objProblemFlg  ...  \\\n",
       "0                0.0          6248.51                0.0            0.0  ...   \n",
       "1               41.0          4297.44                1.0            0.0  ...   \n",
       "2               31.0          6293.78                1.0            0.0  ...   \n",
       "3                0.0          4812.98                0.0            0.0  ...   \n",
       "4              125.0             0.00                0.0            0.0  ...   \n",
       "\n",
       "   complexShortNm  developer.bankruptStage.bankruptStageDesc  \\\n",
       "0                                                              \n",
       "1                                                              \n",
       "2                                                              \n",
       "3                                                              \n",
       "4                                                              \n",
       "\n",
       "   developer.bankruptStage.bankruptLawUrl  developer.orgBankruptMsgDttm  \\\n",
       "0                                                                         \n",
       "1                                                                         \n",
       "2                                                                         \n",
       "3                                                                         \n",
       "4                                                                         \n",
       "\n",
       "   metro.id  metro.name  metro.line  metro.color  metro.isWalk  metro.colors  \n",
       "0                                                                             \n",
       "1                                                                             \n",
       "2                                                                             \n",
       "3                                                                             \n",
       "4                                                                             \n",
       "\n",
       "[5 rows x 109 columns]"
      ]
     },
     "execution_count": 139,
     "metadata": {},
     "output_type": "execute_result"
    }
   ],
   "source": [
    "from sklearn.impute import SimpleImputer\n",
    "\n",
    "cat_features_mask = (df.dtypes == \"object\").values\n",
    "\n",
    "# для вещественнозначных признаков заполним пропуски средними\n",
    "X_real = df[df.columns[~cat_features_mask]]\n",
    "mis_replacer = SimpleImputer(strategy=\"mean\")\n",
    "X_no_mis_real = pd.DataFrame(data=mis_replacer.fit_transform(X_real), columns=X_real.columns)\n",
    "\n",
    "# для категориальных - пустыми строками\n",
    "X_cat = df[df.columns[cat_features_mask]].fillna(\"\")\n",
    "X_1 = pd.concat([X_no_mis_real, X_cat], axis=1)\n",
    "\n",
    "X_1.head()"
   ]
  },
  {
   "cell_type": "markdown",
   "metadata": {},
   "source": [
    "На основе анализа признаков, были выявлены возможные самые релевантные признаки, которые дают больше информации для анализа"
   ]
  },
  {
   "cell_type": "code",
   "execution_count": 188,
   "metadata": {},
   "outputs": [],
   "source": [
    "index_analisis = ['region', 'floorMin', 'floorMax', 'objElemLivingCnt', 'objElemParkingCnt', 'objSquareLiving', 'objCompensFundFlg', 'objLkClassDesc', 'objElevatorPassengerCnt', 'objLkFinishTypeDesc', 'wallMaterialShortDesc']"
   ]
  },
  {
   "cell_type": "code",
   "execution_count": 126,
   "metadata": {
    "collapsed": true,
    "jupyter": {
     "outputs_hidden": true
    },
    "tags": []
   },
   "outputs": [
    {
     "data": {
      "text/plain": [
       "['id',\n",
       " 'pdId',\n",
       " 'region',\n",
       " 'address',\n",
       " 'floorMin',\n",
       " 'floorMax',\n",
       " 'objElemLivingCnt',\n",
       " 'objReady100PercDt',\n",
       " 'wallMaterialShortDesc',\n",
       " 'objLkFinishTypeDesc',\n",
       " 'objLkFreePlanDesc',\n",
       " 'objElemParkingCnt',\n",
       " 'objSquareLiving',\n",
       " 'rpdNum',\n",
       " 'rpdPdfLink',\n",
       " 'rpdIssueDttm',\n",
       " 'objLkLatitude',\n",
       " 'objLkLongitude',\n",
       " 'objCompensFundFlg',\n",
       " 'objProblemFlg',\n",
       " 'objLkClassDesc',\n",
       " 'loadDttm',\n",
       " 'photoRenderDTO',\n",
       " 'objGuarantyEscrowFlg',\n",
       " 'objectType',\n",
       " 'miniUrl',\n",
       " 'residentialBuildings',\n",
       " 'newBuildingId',\n",
       " 'objFloorCnt',\n",
       " 'objFlatCnt',\n",
       " 'objFlatSq',\n",
       " 'objNonlivElemCnt',\n",
       " 'objStatus',\n",
       " 'isAvailableWantLiveHere',\n",
       " 'objTransferPlanDt',\n",
       " 'objLivCeilingHeight',\n",
       " 'objInfrstrBicycleLaneFlg',\n",
       " 'objInfrstrPlaygrndCnt',\n",
       " 'objInfrstrSportGroundCnt',\n",
       " 'objInfrstrTrashAreaCnt',\n",
       " 'objInfrstrObjPrkngCnt',\n",
       " 'objInfrstrNotObjPrkngCnt',\n",
       " 'objInfrstrRampFlg',\n",
       " 'objInfrstrCurbLoweringFlg',\n",
       " 'objElevatorWheelchairCnt',\n",
       " 'objElevatorPassengerCnt',\n",
       " 'objElevatorCargoCnt',\n",
       " 'objElevatorCargoPassengerCnt',\n",
       " 'soldOutPerc',\n",
       " 'objPriceAvg',\n",
       " 'generalContractorNm',\n",
       " 'nonlivFirstFloor',\n",
       " 'objectTransportInfo',\n",
       " 'conclusion',\n",
       " 'objLkSaleDepEmail',\n",
       " 'objGreenHouseFlg',\n",
       " 'objEnergyEffShortDesc',\n",
       " 'infrastructureIndexValue',\n",
       " 'developer.devId',\n",
       " 'developer.devShortCleanNm',\n",
       " 'developer.devShortNm',\n",
       " 'developer.devFullCleanNm',\n",
       " 'developer.problObjCnt',\n",
       " 'developer.buildObjCnt',\n",
       " 'developer.comissObjCnt',\n",
       " 'developer.regRegionDesc',\n",
       " 'developer.devPhoneNum',\n",
       " 'developer.devSite',\n",
       " 'developer.devEmail',\n",
       " 'developer.devInn',\n",
       " 'developer.devOgrn',\n",
       " 'developer.devKpp',\n",
       " 'developer.devLegalAddr',\n",
       " 'developer.devFactAddr',\n",
       " 'developer.lastRpdId',\n",
       " 'developer.fundGuarantyFlg',\n",
       " 'developer.devOrgRegRegionCd',\n",
       " 'developer.devEmplMainFullNm',\n",
       " 'developer.developerGroupName',\n",
       " 'developer.orgForm.id',\n",
       " 'developer.orgForm.fullForm',\n",
       " 'developer.orgForm.shortForm',\n",
       " 'developer.companyGroupId',\n",
       " 'developer.objGuarantyEscrowFlg',\n",
       " 'developer.govFundFlg',\n",
       " 'quartography.objLivElem1KCnt',\n",
       " 'quartography.objLivElem2KCnt',\n",
       " 'quartography.objLivElem3KCnt',\n",
       " 'quartography.objLivElem4KCnt',\n",
       " 'quartography.objLivElemCnt',\n",
       " 'quartography.objLivElemEntrCnt',\n",
       " 'quartography.objLivElemEntrFloorAvg',\n",
       " 'transportDistIndex',\n",
       " 'transportDistIndexValue',\n",
       " 'nameObj',\n",
       " 'complexShortNm',\n",
       " 'airQualityIndexValue',\n",
       " 'greenAreaIndexValue',\n",
       " 'developer.bankruptStage.bankruptStageCd',\n",
       " 'developer.bankruptStage.bankruptStageDesc',\n",
       " 'developer.bankruptStage.bankruptLawUrl',\n",
       " 'developer.orgBankruptMsgDttm',\n",
       " 'metro.id',\n",
       " 'metro.name',\n",
       " 'metro.line',\n",
       " 'metro.color',\n",
       " 'metro.time',\n",
       " 'metro.isWalk',\n",
       " 'metro.colors']"
      ]
     },
     "execution_count": 126,
     "metadata": {},
     "output_type": "execute_result"
    }
   ],
   "source": [
    "index"
   ]
  },
  {
   "cell_type": "code",
   "execution_count": 88,
   "metadata": {
    "tags": []
   },
   "outputs": [
    {
     "data": {
      "text/plain": [
       "array([nan,\n",
       "       'Сообщение о судебном акте. О завершении конкурсного производства',\n",
       "       'Сообщение о судебном акте. О прекращении производства по делу или об отказе в признании должника банкротом',\n",
       "       'Сообщение о судебном акте. О введении внешнего управления',\n",
       "       'Сообщение о судебном акте. О признании должника банкротом и открытии конкурсного производства'],\n",
       "      dtype=object)"
      ]
     },
     "execution_count": 88,
     "metadata": {},
     "output_type": "execute_result"
    }
   ],
   "source": [
    "df['developer.bankruptStage.bankruptStageDesc'].unique()"
   ]
  },
  {
   "cell_type": "code",
   "execution_count": 165,
   "metadata": {},
   "outputs": [],
   "source": [
    "import matplotlib.pyplot as plt\n",
    "import seaborn as sns"
   ]
  },
  {
   "cell_type": "code",
   "execution_count": 154,
   "metadata": {},
   "outputs": [
    {
     "data": {
      "text/plain": [
       "(1000, 109)"
      ]
     },
     "execution_count": 154,
     "metadata": {},
     "output_type": "execute_result"
    }
   ],
   "source": [
    "X_1.shape"
   ]
  },
  {
   "cell_type": "code",
   "execution_count": 168,
   "metadata": {
    "tags": []
   },
   "outputs": [
    {
     "data": {
      "text/html": [
       "<div>\n",
       "<style scoped>\n",
       "    .dataframe tbody tr th:only-of-type {\n",
       "        vertical-align: middle;\n",
       "    }\n",
       "\n",
       "    .dataframe tbody tr th {\n",
       "        vertical-align: top;\n",
       "    }\n",
       "\n",
       "    .dataframe thead th {\n",
       "        text-align: right;\n",
       "    }\n",
       "</style>\n",
       "<table border=\"1\" class=\"dataframe\">\n",
       "  <thead>\n",
       "    <tr style=\"text-align: right;\">\n",
       "      <th></th>\n",
       "      <th>region</th>\n",
       "      <th>floorMin</th>\n",
       "      <th>floorMax</th>\n",
       "      <th>objElemLivingCnt</th>\n",
       "      <th>objElemParkingCnt</th>\n",
       "      <th>objSquareLiving</th>\n",
       "      <th>objCompensFundFlg</th>\n",
       "      <th>objProblemFlg</th>\n",
       "      <th>objLkClassDesc</th>\n",
       "      <th>objElevatorPassengerCnt</th>\n",
       "      <th>objLkFinishTypeDesc</th>\n",
       "      <th>wallMaterialShortDesc</th>\n",
       "    </tr>\n",
       "  </thead>\n",
       "  <tbody>\n",
       "    <tr>\n",
       "      <th>0</th>\n",
       "      <td>72.0</td>\n",
       "      <td>6.0</td>\n",
       "      <td>12.0</td>\n",
       "      <td>65.0</td>\n",
       "      <td>0.0</td>\n",
       "      <td>6248.51</td>\n",
       "      <td>0.0</td>\n",
       "      <td>0.0</td>\n",
       "      <td>Элитный</td>\n",
       "      <td>5.0</td>\n",
       "      <td>Без отделки</td>\n",
       "      <td>Другое</td>\n",
       "    </tr>\n",
       "    <tr>\n",
       "      <th>1</th>\n",
       "      <td>72.0</td>\n",
       "      <td>3.0</td>\n",
       "      <td>12.0</td>\n",
       "      <td>44.0</td>\n",
       "      <td>41.0</td>\n",
       "      <td>4297.44</td>\n",
       "      <td>1.0</td>\n",
       "      <td>0.0</td>\n",
       "      <td>Элитный</td>\n",
       "      <td>2.0</td>\n",
       "      <td>По желанию заказчика</td>\n",
       "      <td>Другое</td>\n",
       "    </tr>\n",
       "    <tr>\n",
       "      <th>2</th>\n",
       "      <td>72.0</td>\n",
       "      <td>4.0</td>\n",
       "      <td>20.0</td>\n",
       "      <td>68.0</td>\n",
       "      <td>31.0</td>\n",
       "      <td>6293.78</td>\n",
       "      <td>1.0</td>\n",
       "      <td>0.0</td>\n",
       "      <td>Элитный</td>\n",
       "      <td>5.0</td>\n",
       "      <td>По желанию заказчика</td>\n",
       "      <td>Другое</td>\n",
       "    </tr>\n",
       "    <tr>\n",
       "      <th>3</th>\n",
       "      <td>72.0</td>\n",
       "      <td>7.0</td>\n",
       "      <td>10.0</td>\n",
       "      <td>43.0</td>\n",
       "      <td>0.0</td>\n",
       "      <td>4812.98</td>\n",
       "      <td>0.0</td>\n",
       "      <td>0.0</td>\n",
       "      <td>Элитный</td>\n",
       "      <td>3.0</td>\n",
       "      <td>Без отделки</td>\n",
       "      <td>Другое</td>\n",
       "    </tr>\n",
       "    <tr>\n",
       "      <th>4</th>\n",
       "      <td>72.0</td>\n",
       "      <td>1.0</td>\n",
       "      <td>1.0</td>\n",
       "      <td>0.0</td>\n",
       "      <td>125.0</td>\n",
       "      <td>0.00</td>\n",
       "      <td>0.0</td>\n",
       "      <td>0.0</td>\n",
       "      <td>Элитный</td>\n",
       "      <td>8.0</td>\n",
       "      <td>Без отделки</td>\n",
       "      <td>Другое</td>\n",
       "    </tr>\n",
       "    <tr>\n",
       "      <th>...</th>\n",
       "      <td>...</td>\n",
       "      <td>...</td>\n",
       "      <td>...</td>\n",
       "      <td>...</td>\n",
       "      <td>...</td>\n",
       "      <td>...</td>\n",
       "      <td>...</td>\n",
       "      <td>...</td>\n",
       "      <td>...</td>\n",
       "      <td>...</td>\n",
       "      <td>...</td>\n",
       "      <td>...</td>\n",
       "    </tr>\n",
       "    <tr>\n",
       "      <th>995</th>\n",
       "      <td>54.0</td>\n",
       "      <td>9.0</td>\n",
       "      <td>17.0</td>\n",
       "      <td>243.0</td>\n",
       "      <td>65.0</td>\n",
       "      <td>14213.34</td>\n",
       "      <td>0.0</td>\n",
       "      <td>0.0</td>\n",
       "      <td>Комфорт</td>\n",
       "      <td>6.0</td>\n",
       "      <td>Под ключ</td>\n",
       "      <td>Монолит-кирпич</td>\n",
       "    </tr>\n",
       "    <tr>\n",
       "      <th>996</th>\n",
       "      <td>54.0</td>\n",
       "      <td>7.0</td>\n",
       "      <td>19.0</td>\n",
       "      <td>339.0</td>\n",
       "      <td>182.0</td>\n",
       "      <td>25446.34</td>\n",
       "      <td>0.0</td>\n",
       "      <td>0.0</td>\n",
       "      <td>Комфорт</td>\n",
       "      <td>8.0</td>\n",
       "      <td>Под чистовую</td>\n",
       "      <td>Монолит-кирпич</td>\n",
       "    </tr>\n",
       "    <tr>\n",
       "      <th>997</th>\n",
       "      <td>54.0</td>\n",
       "      <td>7.0</td>\n",
       "      <td>19.0</td>\n",
       "      <td>273.0</td>\n",
       "      <td>189.0</td>\n",
       "      <td>19638.61</td>\n",
       "      <td>0.0</td>\n",
       "      <td>0.0</td>\n",
       "      <td>Комфорт</td>\n",
       "      <td>6.0</td>\n",
       "      <td>Без отделки</td>\n",
       "      <td>Монолит-кирпич</td>\n",
       "    </tr>\n",
       "    <tr>\n",
       "      <th>998</th>\n",
       "      <td>66.0</td>\n",
       "      <td>9.0</td>\n",
       "      <td>17.0</td>\n",
       "      <td>318.0</td>\n",
       "      <td>99.0</td>\n",
       "      <td>21872.10</td>\n",
       "      <td>0.0</td>\n",
       "      <td>0.0</td>\n",
       "      <td>Типовой</td>\n",
       "      <td>0.0</td>\n",
       "      <td>Под чистовую</td>\n",
       "      <td>Монолит-кирпич</td>\n",
       "    </tr>\n",
       "    <tr>\n",
       "      <th>999</th>\n",
       "      <td>66.0</td>\n",
       "      <td>9.0</td>\n",
       "      <td>11.0</td>\n",
       "      <td>296.0</td>\n",
       "      <td>99.0</td>\n",
       "      <td>18638.00</td>\n",
       "      <td>0.0</td>\n",
       "      <td>0.0</td>\n",
       "      <td>Типовой</td>\n",
       "      <td>0.0</td>\n",
       "      <td>Другое</td>\n",
       "      <td>Монолит-кирпич</td>\n",
       "    </tr>\n",
       "  </tbody>\n",
       "</table>\n",
       "<p>1000 rows × 12 columns</p>\n",
       "</div>"
      ],
      "text/plain": [
       "     region  floorMin  floorMax  objElemLivingCnt  objElemParkingCnt  \\\n",
       "0      72.0       6.0      12.0              65.0                0.0   \n",
       "1      72.0       3.0      12.0              44.0               41.0   \n",
       "2      72.0       4.0      20.0              68.0               31.0   \n",
       "3      72.0       7.0      10.0              43.0                0.0   \n",
       "4      72.0       1.0       1.0               0.0              125.0   \n",
       "..      ...       ...       ...               ...                ...   \n",
       "995    54.0       9.0      17.0             243.0               65.0   \n",
       "996    54.0       7.0      19.0             339.0              182.0   \n",
       "997    54.0       7.0      19.0             273.0              189.0   \n",
       "998    66.0       9.0      17.0             318.0               99.0   \n",
       "999    66.0       9.0      11.0             296.0               99.0   \n",
       "\n",
       "     objSquareLiving  objCompensFundFlg  objProblemFlg objLkClassDesc  \\\n",
       "0            6248.51                0.0            0.0        Элитный   \n",
       "1            4297.44                1.0            0.0        Элитный   \n",
       "2            6293.78                1.0            0.0        Элитный   \n",
       "3            4812.98                0.0            0.0        Элитный   \n",
       "4               0.00                0.0            0.0        Элитный   \n",
       "..               ...                ...            ...            ...   \n",
       "995         14213.34                0.0            0.0        Комфорт   \n",
       "996         25446.34                0.0            0.0        Комфорт   \n",
       "997         19638.61                0.0            0.0        Комфорт   \n",
       "998         21872.10                0.0            0.0        Типовой   \n",
       "999         18638.00                0.0            0.0        Типовой   \n",
       "\n",
       "     objElevatorPassengerCnt   objLkFinishTypeDesc wallMaterialShortDesc  \n",
       "0                        5.0           Без отделки                Другое  \n",
       "1                        2.0  По желанию заказчика                Другое  \n",
       "2                        5.0  По желанию заказчика                Другое  \n",
       "3                        3.0           Без отделки                Другое  \n",
       "4                        8.0           Без отделки                Другое  \n",
       "..                       ...                   ...                   ...  \n",
       "995                      6.0              Под ключ        Монолит-кирпич  \n",
       "996                      8.0          Под чистовую        Монолит-кирпич  \n",
       "997                      6.0           Без отделки        Монолит-кирпич  \n",
       "998                      0.0          Под чистовую        Монолит-кирпич  \n",
       "999                      0.0                Другое        Монолит-кирпич  \n",
       "\n",
       "[1000 rows x 12 columns]"
      ]
     },
     "execution_count": 168,
     "metadata": {},
     "output_type": "execute_result"
    }
   ],
   "source": [
    "X_1[index_analisis]"
   ]
  },
  {
   "cell_type": "code",
   "execution_count": 169,
   "metadata": {},
   "outputs": [
    {
     "data": {
      "image/png": "[encoded data removed]",
      "text/plain": [
       "<Figure size 432x288 with 2 Axes>"
      ]
     },
     "metadata": {
      "needs_background": "light"
     },
     "output_type": "display_data"
    }
   ],
   "source": [
    "dataplot = sns.heatmap(X_1[index_analisis].corr(), cmap=\"YlGnBu\", annot=True)"
   ]
  },
  {
   "cell_type": "code",
   "execution_count": 229,
   "metadata": {
    "collapsed": false,
    "jupyter": {
     "outputs_hidden": false
    },
    "pycharm": {
     "name": "#%%\n"
    }
   },
   "outputs": [],
   "source": [
    "class Saver:\n",
    "    def __init__(self, data):\n",
    "        self.data = data\n",
    "        \n",
    "    def save_csv(self):\n",
    "        df.to_csv('objects.csv')\n",
    "\n",
    "    def save_xl(self):\n",
    "        df.to_excel('objects.xlsx')\n",
    "\n",
    "    def save_sql(self):\n",
    "        df.to_sql('products', conn, if_exists='replace', index = False)\n",
    "        conn.commit()\n",
    "        conn.close()\n",
    "        \n",
    "    def save_pickle(self):\n",
    "        df.to_pickle('objects.pkl')\n",
    "        \n",
    "class Visualizer:\n",
    "    def __init__(self,data):\n",
    "        self.data = data\n",
    "\n",
    "    def make_boxplot(self, x_axis, y_axis):\n",
    "        sns.catplot(x= x_axis, y=y_axis, data=self.data[[x_axis, y_axis]], kind='boxen', height=4, aspect=2); \n",
    "\n",
    "    def make_heatmap(self, arr_columns):\n",
    "        sns.heatmap(X_1[index_analisis].corr(), cmap=\"YlGnBu\", annot=True)\n",
    "        \n",
    "    def make_pie(self, names, counts):\n",
    "        wedge_properties = {\"edgecolor\":\"k\",'linewidth': 1}\n",
    "        plt.pie(counts, labels=names, startangle=30,\n",
    "           counterclock=False, shadow=True, wedgeprops=wedge_properties,\n",
    "           autopct=\"%1.1f%%\", pctdistance=0.7)\n",
    "        plt.title(\"Analysis\")\n",
    "        plt.show()\n",
    "        "
   ]
  },
  {
   "cell_type": "code",
   "execution_count": 230,
   "metadata": {},
   "outputs": [
    {
     "data": {
      "image/png": "[encoded data removed]",
      "text/plain": [
       "<Figure size 432x288 with 2 Axes>"
      ]
     },
     "metadata": {
      "needs_background": "light"
     },
     "output_type": "display_data"
    }
   ],
   "source": [
    "d = Visualizer(X_1)\n",
    "d.make_heatmap(index_analisis)"
   ]
  },
  {
   "cell_type": "markdown",
   "metadata": {},
   "source": [
    "На основе данной Heatmap, мы можем сделать несколько необычныъ выводов о недвижимости\n",
    "objSquareLiving - objElevatorPassengerCnt\n",
    "FloorMax(floormin) - objSquareLiving\n",
    "objElevatorPassengerCnt - objElementsLivingCnt\n",
    "\n",
    "Данные корреляции не совсем очевидны и могут дать положительные инсайды и использоваться при обучении моделей)"
   ]
  },
  {
   "cell_type": "code",
   "execution_count": 231,
   "metadata": {},
   "outputs": [
    {
     "data": {
      "image/png": "[encoded data removed]",
      "text/plain": [
       "<Figure size 576x288 with 1 Axes>"
      ]
     },
     "metadata": {
      "needs_background": "light"
     },
     "output_type": "display_data"
    }
   ],
   "source": [
    "d.make_boxplot('objLkClassDesc', 'objElemParkingCnt')"
   ]
  },
  {
   "cell_type": "markdown",
   "metadata": {},
   "source": [
    " Из данного графика, можно сделать вывод о том, что большое количество элитных зданий имеет мало парковок, у типовых вообще мало парковок. Бизнес класс и комфорт предоставляют больший range парковочных мест для своих обитателей"
   ]
  },
  {
   "cell_type": "code",
   "execution_count": 232,
   "metadata": {},
   "outputs": [
    {
     "data": {
      "image/png": "[encoded data removed]",
      "text/plain": [
       "<Figure size 576x288 with 1 Axes>"
      ]
     },
     "metadata": {
      "needs_background": "light"
     },
     "output_type": "display_data"
    }
   ],
   "source": [
    "d.make_boxplot('objLkClassDesc', 'objCompensFundFlg')"
   ]
  },
  {
   "cell_type": "markdown",
   "metadata": {},
   "source": [
    "Для элитного типа жилья нет никакого финансирования"
   ]
  },
  {
   "cell_type": "code",
   "execution_count": 233,
   "metadata": {},
   "outputs": [
    {
     "data": {
      "text/plain": [
       "[521, 221, 204, 22, 20, 12]"
      ]
     },
     "execution_count": 233,
     "metadata": {},
     "output_type": "execute_result"
    }
   ],
   "source": [
    "df['wallMaterialShortDesc'].value_counts().to_list()"
   ]
  },
  {
   "cell_type": "code",
   "execution_count": 234,
   "metadata": {},
   "outputs": [
    {
     "data": {
      "text/plain": [
       "['Другое', 'Монолит-кирпич', 'Панель', 'Кирпич', 'Монолит', 'Блоки']"
      ]
     },
     "execution_count": 234,
     "metadata": {},
     "output_type": "execute_result"
    }
   ],
   "source": [
    "df['wallMaterialShortDesc'].unique().tolist()"
   ]
  },
  {
   "cell_type": "code",
   "execution_count": 235,
   "metadata": {},
   "outputs": [
    {
     "data": {
      "image/png": "[encoded data removed]",
      "text/plain": [
       "<Figure size 432x288 with 1 Axes>"
      ]
     },
     "metadata": {},
     "output_type": "display_data"
    }
   ],
   "source": [
    "d.make_pie(df['wallMaterialShortDesc'].unique().tolist(), df['wallMaterialShortDesc'].value_counts().to_list())"
   ]
  },
  {
   "cell_type": "code",
   "execution_count": 236,
   "metadata": {},
   "outputs": [
    {
     "data": {
      "image/png": "[encoded data removed]",
      "text/plain": [
       "<Figure size 432x288 with 1 Axes>"
      ]
     },
     "metadata": {},
     "output_type": "display_data"
    }
   ],
   "source": [
    "d.make_pie(df['objLkFinishTypeDesc'].unique().tolist(), df['objLkFinishTypeDesc'].value_counts().to_list())"
   ]
  },
  {
   "cell_type": "code",
   "execution_count": 239,
   "metadata": {},
   "outputs": [],
   "source": [
    "s = Saver(X_1)\n",
    "s.save_xl()"
   ]
  },
  {
   "cell_type": "code",
   "execution_count": 240,
   "metadata": {},
   "outputs": [],
   "source": [
    "s.save_csv()"
   ]
  },
  {
   "cell_type": "code",
   "execution_count": 242,
   "metadata": {},
   "outputs": [],
   "source": [
    "s.save_pickle()"
   ]
  },
  {
   "cell_type": "code",
   "execution_count": null,
   "metadata": {},
   "outputs": [],
   "source": []
  }
 ],
 "metadata": {
  "kernelspec": {
   "display_name": "Python 3",
   "language": "python",
   "name": "python3"
  },
  "language_info": {
   "codemirror_mode": {
    "name": "ipython",
    "version": 3
   },
   "file_extension": ".py",
   "mimetype": "text/x-python",
   "name": "python",
   "nbconvert_exporter": "python",
   "pygments_lexer": "ipython3",
   "version": "3.8.8"
  }
 },
 "nbformat": 4,
 "nbformat_minor": 4
}
